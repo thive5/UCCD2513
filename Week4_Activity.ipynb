{
 "cells": [
  {
   "cell_type": "code",
   "execution_count": null,
   "metadata": {},
   "outputs": [],
   "source": [
    "import sys\n",
    "# Python 3.7 is required\n",
    "assert sys.version_info >= (3,7)\n",
    "\n",
    "import cv2 as cv\n",
    "import numpy as np\n",
    "\n",
    "# For reproducibility,\n",
    "np.random.seed(99)\n",
    "\n",
    "# Make sure that optimization is enabled\n",
    "if not cv.useOptimized():\n",
    "    cv.setUseOptimized(True)\n",
    "\n",
    "cv.useOptimized()"
   ]
  },
  {
   "cell_type": "markdown",
   "metadata": {},
   "source": [
    "# Activity 1\n",
    "Suggest two ways and write codes to display two images simultaneously. You can use any image snapped from your handphone, downloaded from internet or images from week 4 materials on MS teams. The two images are a color image and its corresponding grayscale image.\n"
   ]
  },
  {
   "cell_type": "code",
   "execution_count": null,
   "metadata": {},
   "outputs": [],
   "source": [
    "# First way \n",
    "#Display colour image\n",
    "img1 = cv.imread('lena.png')\n",
    "#Display grayscale image\n",
    "img_gs1 = cv.imread('lena.png', 0)\n",
    "# Second Way\n",
    "#Display colour image\n",
    "img2 = cv.imread('TreeFlower.jpg')\n",
    "#Display grayscale image\n",
    "img_gs2 = cv.cvtColor(img, cv.COLOR_BGR2GRAY)\n",
    "\n",
    "cv.imshow('image 1 colour',img1)\n",
    "cv.imshow('image 1 grayscale', img_gs1)\n",
    "cv.imshow('image 2 colour',img2)\n",
    "cv.imshow('image 2 grayscale',img_gs2)\n",
    "cv.waitKey(0)\n",
    "cv.destroyAllWindows()"
   ]
  },
  {
   "cell_type": "markdown",
   "metadata": {},
   "source": [
    "# Activity 2\n",
    "Write codes that performs the following:\n",
    "Load the video “img_pexels.mp4” into the Python environment, resize it and display the videos with smaller frames. You can specify an arbitrary frame rate.\n",
    "Save it as a separate files: “smaller_img_pexels.avi” or “smaller_img_pexels.mp4”\n"
   ]
  },
  {
   "cell_type": "code",
   "execution_count": null,
   "metadata": {},
   "outputs": [],
   "source": [
    "vid = cv.VideoCapture('img_pexels.mp4')\n",
    "  \n",
    "#custom width and height set as 360 and 480\n",
    "fourcc = cv.VideoWriter_fourcc('M', 'J', 'P', 'G')\n",
    "fps = 20\n",
    "out = cv.VideoWriter('smaller_img_pexels.avi', fourcc, fps, (360, 480))\n",
    "\n",
    "while vid.isOpened():\n",
    "    ret, frame = vid.read()\n",
    "\n",
    "    if not ret:\n",
    "        print(\"Can't receive frame.\")\n",
    "        break\n",
    "        \n",
    "    frame_resize = cv.resize(frame, (360, 480), interpolation = cv.INTER_AREA)\n",
    "    \n",
    "    cv.namedWindow(\"frame\", cv.WINDOW_NORMAL)\n",
    "    cv.imshow('frame', frame_resize)\n",
    "    out.write(frame_resize)\n",
    "\n",
    "    # Press Esc key to exit\n",
    "    if cv.waitKey(1) & 0xFF == 27:\n",
    "        break\n",
    "\n",
    "cap.release()\n",
    "out.release()\n",
    "cv.destroyAllWindows()\n",
    "\n"
   ]
  },
  {
   "cell_type": "markdown",
   "metadata": {},
   "source": [
    "# Activity 3\n",
    "1. Create a random noise color and grayscale image. You can set a custom width and height. (Hint: use Numpy functions like np.array and np.reshape.)\n"
   ]
  },
  {
   "cell_type": "code",
   "execution_count": null,
   "metadata": {},
   "outputs": [],
   "source": [
    "img = np.array([x for x in np.random.randint(255, size = (350 * 350 * 3))], dtype=np.uint8)\n",
    "random_noise = img.reshape(350, 350, 3)\n",
    "random_noise_grayscale = cv.cvtColor(random_noise, cv.COLOR_BGR2GRAY)\n",
    "cv.imshow('Random noise color and Grayscale', random_noise_grayscale)\n",
    "cv.waitKey(0)\n",
    "cv.destroyAllWindows()"
   ]
  }
 ],
 "metadata": {
  "kernelspec": {
   "display_name": "Python 3",
   "language": "python",
   "name": "python3"
  },
  "language_info": {
   "codemirror_mode": {
    "name": "ipython",
    "version": 3
   },
   "file_extension": ".py",
   "mimetype": "text/x-python",
   "name": "python",
   "nbconvert_exporter": "python",
   "pygments_lexer": "ipython3",
   "version": "3.9.1"
  }
 },
 "nbformat": 4,
 "nbformat_minor": 4
}
